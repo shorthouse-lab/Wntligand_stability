{
 "cells": [
  {
   "cell_type": "code",
   "execution_count": 1,
   "id": "e4f55df9-7e5e-44a7-a35b-c46a0fe27a31",
   "metadata": {},
   "outputs": [],
   "source": [
    "import pandas as pd\n",
    "import matplotlib.pyplot as plt\n",
    "import matplotlib\n",
    "import seaborn as sns"
   ]
  },
  {
   "cell_type": "code",
   "execution_count": 2,
   "id": "6bee2aa1-15e9-45e7-ae33-42b53378f174",
   "metadata": {},
   "outputs": [
    {
     "name": "stderr",
     "output_type": "stream",
     "text": [
      "/var/folders/vv/0521912d5_j4wpw2lwprbrzw0000gn/T/ipykernel_12741/3224344362.py:3: DtypeWarning: Columns (14) have mixed types. Specify dtype option on import or set low_memory=False.\n",
      "  mutationdata = pd.read_csv(\"/Users/davidshorthouse/Documents/Data/COSMIC/Large_intestine_COSMIC_mutations.csv\")\n"
     ]
    }
   ],
   "source": [
    "## This file downloaded from COSMIC: https://cancer.sanger.ac.uk/cosmic/download/cosmic/v100/genomescreensmutanttsv\n",
    "## Log in an filter by \"Large Intestine\"\n",
    "mutationdata = pd.read_csv(\"/Users/davidshorthouse/Documents/Data/COSMIC/Large_intestine_COSMIC_mutations.csv\")"
   ]
  },
  {
   "cell_type": "code",
   "execution_count": 3,
   "id": "8756ed69-9fc9-489b-8531-068573ad3e72",
   "metadata": {},
   "outputs": [
    {
     "data": {
      "text/html": [
       "<div>\n",
       "<style scoped>\n",
       "    .dataframe tbody tr th:only-of-type {\n",
       "        vertical-align: middle;\n",
       "    }\n",
       "\n",
       "    .dataframe tbody tr th {\n",
       "        vertical-align: top;\n",
       "    }\n",
       "\n",
       "    .dataframe thead th {\n",
       "        text-align: right;\n",
       "    }\n",
       "</style>\n",
       "<table border=\"1\" class=\"dataframe\">\n",
       "  <thead>\n",
       "    <tr style=\"text-align: right;\">\n",
       "      <th></th>\n",
       "      <th>Unnamed: 0</th>\n",
       "      <th>GENE_SYMBOL</th>\n",
       "      <th>COSMIC_GENE_ID</th>\n",
       "      <th>TRANSCRIPT_ACCESSION</th>\n",
       "      <th>COSMIC_SAMPLE_ID</th>\n",
       "      <th>SAMPLE_NAME</th>\n",
       "      <th>COSMIC_PHENOTYPE_ID</th>\n",
       "      <th>GENOMIC_MUTATION_ID</th>\n",
       "      <th>LEGACY_MUTATION_ID</th>\n",
       "      <th>MUTATION_ID</th>\n",
       "      <th>...</th>\n",
       "      <th>GENOME_STOP</th>\n",
       "      <th>STRAND</th>\n",
       "      <th>PUBMED_PMID</th>\n",
       "      <th>COSMIC_STUDY_ID</th>\n",
       "      <th>HGVSP</th>\n",
       "      <th>HGVSC</th>\n",
       "      <th>HGVSG</th>\n",
       "      <th>GENOMIC_WT_ALLELE</th>\n",
       "      <th>GENOMIC_MUT_ALLELE</th>\n",
       "      <th>MUTATION_SOMATIC_STATUS</th>\n",
       "    </tr>\n",
       "  </thead>\n",
       "  <tbody>\n",
       "    <tr>\n",
       "      <th>0</th>\n",
       "      <td>14</td>\n",
       "      <td>PGAM5</td>\n",
       "      <td>COSG3464</td>\n",
       "      <td>ENST00000454808.2</td>\n",
       "      <td>COSS2607147</td>\n",
       "      <td>HUB-02-B2-070</td>\n",
       "      <td>COSO28864826</td>\n",
       "      <td>COSV58203115</td>\n",
       "      <td>COSM6040759</td>\n",
       "      <td>61070074</td>\n",
       "      <td>...</td>\n",
       "      <td>133295382.0</td>\n",
       "      <td>+</td>\n",
       "      <td>NaN</td>\n",
       "      <td>COSU670</td>\n",
       "      <td>NaN</td>\n",
       "      <td>ENST00000454808.2:c.272+676C&gt;T</td>\n",
       "      <td>12:g.133295382C&gt;T</td>\n",
       "      <td>C</td>\n",
       "      <td>T</td>\n",
       "      <td>Confirmed somatic variant</td>\n",
       "    </tr>\n",
       "    <tr>\n",
       "      <th>1</th>\n",
       "      <td>31</td>\n",
       "      <td>PTPN1</td>\n",
       "      <td>COSG8144</td>\n",
       "      <td>ENST00000371621.3</td>\n",
       "      <td>COSS1651176</td>\n",
       "      <td>TCGA-AZ-6603-01</td>\n",
       "      <td>COSO28694826</td>\n",
       "      <td>COSV50403403</td>\n",
       "      <td>COSM1412424</td>\n",
       "      <td>38682688</td>\n",
       "      <td>...</td>\n",
       "      <td>49197963.0</td>\n",
       "      <td>+</td>\n",
       "      <td>NaN</td>\n",
       "      <td>COSU376</td>\n",
       "      <td>ENSP00000360683.3:p.Thr417Met</td>\n",
       "      <td>ENST00000371621.3:c.1250C&gt;T</td>\n",
       "      <td>20:g.49197963C&gt;T</td>\n",
       "      <td>C</td>\n",
       "      <td>T</td>\n",
       "      <td>Confirmed somatic variant</td>\n",
       "    </tr>\n",
       "    <tr>\n",
       "      <th>2</th>\n",
       "      <td>43</td>\n",
       "      <td>ATXN2L</td>\n",
       "      <td>COSG46295</td>\n",
       "      <td>ENST00000395547.2</td>\n",
       "      <td>COSS1651197</td>\n",
       "      <td>TCGA-CK-5913-01</td>\n",
       "      <td>COSO28454826</td>\n",
       "      <td>COSV100294844</td>\n",
       "      <td>COSM7605644</td>\n",
       "      <td>47064055</td>\n",
       "      <td>...</td>\n",
       "      <td>28847651.0</td>\n",
       "      <td>+</td>\n",
       "      <td>NaN</td>\n",
       "      <td>COSU376</td>\n",
       "      <td>ENSP00000378917.2:p.Cys1048=</td>\n",
       "      <td>ENST00000395547.2:c.3144T&gt;C</td>\n",
       "      <td>16:g.28847651T&gt;C</td>\n",
       "      <td>T</td>\n",
       "      <td>C</td>\n",
       "      <td>Confirmed somatic variant</td>\n",
       "    </tr>\n",
       "    <tr>\n",
       "      <th>3</th>\n",
       "      <td>51</td>\n",
       "      <td>ARHGEF10</td>\n",
       "      <td>COSG21039</td>\n",
       "      <td>ENST00000518288.1</td>\n",
       "      <td>COSS2506609</td>\n",
       "      <td>sysucc-1422T</td>\n",
       "      <td>COSO28864826</td>\n",
       "      <td>COSV50643338</td>\n",
       "      <td>COSN20458451</td>\n",
       "      <td>78787872</td>\n",
       "      <td>...</td>\n",
       "      <td>1807346.0</td>\n",
       "      <td>+</td>\n",
       "      <td>NaN</td>\n",
       "      <td>COSU646</td>\n",
       "      <td>NaN</td>\n",
       "      <td>ENST00000518288.1:c.266-717C&gt;G</td>\n",
       "      <td>8:g.1807346C&gt;G</td>\n",
       "      <td>C</td>\n",
       "      <td>G</td>\n",
       "      <td>Confirmed somatic variant</td>\n",
       "    </tr>\n",
       "    <tr>\n",
       "      <th>4</th>\n",
       "      <td>68</td>\n",
       "      <td>LINGO2</td>\n",
       "      <td>COSG51151</td>\n",
       "      <td>ENST00000308675.3</td>\n",
       "      <td>COSS2658290</td>\n",
       "      <td>T3319</td>\n",
       "      <td>COSO28864826</td>\n",
       "      <td>COSV58058127</td>\n",
       "      <td>COSM6701436</td>\n",
       "      <td>26721300</td>\n",
       "      <td>...</td>\n",
       "      <td>27950274.0</td>\n",
       "      <td>-</td>\n",
       "      <td>27149842.0</td>\n",
       "      <td>NaN</td>\n",
       "      <td>ENSP00000310126.3:p.Thr132=</td>\n",
       "      <td>ENST00000308675.3:c.396T&gt;C</td>\n",
       "      <td>9:g.27950274A&gt;G</td>\n",
       "      <td>A</td>\n",
       "      <td>G</td>\n",
       "      <td>Confirmed somatic variant</td>\n",
       "    </tr>\n",
       "  </tbody>\n",
       "</table>\n",
       "<p>5 rows × 27 columns</p>\n",
       "</div>"
      ],
      "text/plain": [
       "   Unnamed: 0 GENE_SYMBOL COSMIC_GENE_ID TRANSCRIPT_ACCESSION  \\\n",
       "0          14       PGAM5       COSG3464    ENST00000454808.2   \n",
       "1          31       PTPN1       COSG8144    ENST00000371621.3   \n",
       "2          43      ATXN2L      COSG46295    ENST00000395547.2   \n",
       "3          51    ARHGEF10      COSG21039    ENST00000518288.1   \n",
       "4          68      LINGO2      COSG51151    ENST00000308675.3   \n",
       "\n",
       "  COSMIC_SAMPLE_ID      SAMPLE_NAME COSMIC_PHENOTYPE_ID GENOMIC_MUTATION_ID  \\\n",
       "0      COSS2607147    HUB-02-B2-070        COSO28864826        COSV58203115   \n",
       "1      COSS1651176  TCGA-AZ-6603-01        COSO28694826        COSV50403403   \n",
       "2      COSS1651197  TCGA-CK-5913-01        COSO28454826       COSV100294844   \n",
       "3      COSS2506609     sysucc-1422T        COSO28864826        COSV50643338   \n",
       "4      COSS2658290            T3319        COSO28864826        COSV58058127   \n",
       "\n",
       "  LEGACY_MUTATION_ID  MUTATION_ID  ...  GENOME_STOP STRAND PUBMED_PMID  \\\n",
       "0        COSM6040759     61070074  ...  133295382.0      +         NaN   \n",
       "1        COSM1412424     38682688  ...   49197963.0      +         NaN   \n",
       "2        COSM7605644     47064055  ...   28847651.0      +         NaN   \n",
       "3       COSN20458451     78787872  ...    1807346.0      +         NaN   \n",
       "4        COSM6701436     26721300  ...   27950274.0      -  27149842.0   \n",
       "\n",
       "  COSMIC_STUDY_ID                          HGVSP  \\\n",
       "0         COSU670                            NaN   \n",
       "1         COSU376  ENSP00000360683.3:p.Thr417Met   \n",
       "2         COSU376   ENSP00000378917.2:p.Cys1048=   \n",
       "3         COSU646                            NaN   \n",
       "4             NaN    ENSP00000310126.3:p.Thr132=   \n",
       "\n",
       "                            HGVSC              HGVSG  GENOMIC_WT_ALLELE  \\\n",
       "0  ENST00000454808.2:c.272+676C>T  12:g.133295382C>T                  C   \n",
       "1     ENST00000371621.3:c.1250C>T   20:g.49197963C>T                  C   \n",
       "2     ENST00000395547.2:c.3144T>C   16:g.28847651T>C                  T   \n",
       "3  ENST00000518288.1:c.266-717C>G     8:g.1807346C>G                  C   \n",
       "4      ENST00000308675.3:c.396T>C    9:g.27950274A>G                  A   \n",
       "\n",
       "  GENOMIC_MUT_ALLELE    MUTATION_SOMATIC_STATUS  \n",
       "0                  T  Confirmed somatic variant  \n",
       "1                  T  Confirmed somatic variant  \n",
       "2                  C  Confirmed somatic variant  \n",
       "3                  G  Confirmed somatic variant  \n",
       "4                  G  Confirmed somatic variant  \n",
       "\n",
       "[5 rows x 27 columns]"
      ]
     },
     "execution_count": 3,
     "metadata": {},
     "output_type": "execute_result"
    }
   ],
   "source": [
    "mutationdata.head()"
   ]
  },
  {
   "cell_type": "code",
   "execution_count": 4,
   "id": "4941c29f-8f88-41aa-961d-e67b6d2a97fb",
   "metadata": {},
   "outputs": [],
   "source": [
    "## Drop duplicates\n",
    "\n",
    "allsamples = mutationdata[\"COSMIC_SAMPLE_ID\"].nunique()\n",
    "mutationdata = mutationdata.drop_duplicates(subset = [\"SAMPLE_NAME\", \"MUTATION_ID\"])"
   ]
  },
  {
   "cell_type": "code",
   "execution_count": 5,
   "id": "01788dd4-1ad3-4ca6-a611-e7d10d9a57a2",
   "metadata": {},
   "outputs": [],
   "source": [
    "## Define which genes we want\n",
    "WNTlist = [\"WNT1\", \"WNT2\", \"WNT2B\", \"WNT3\", \"WNT3A\", \"WNT4\", \"WNT5A\", \"WNT5B\", \"WNT6\", \"WNT7A\", \"WNT7B\"\n",
    "           ,\"WNT8A\", \"WNT8B\", \"WNT9A\", \"WNT9B\", \"WNT10A\", \"WNT10B\", \"WNT11\", \"WNT16\"]"
   ]
  },
  {
   "cell_type": "code",
   "execution_count": 6,
   "id": "443abdbe-9ee2-45d1-b801-416af111ea76",
   "metadata": {},
   "outputs": [],
   "source": [
    "## Subset to WNT genes and missense variants\n",
    "WNT_mutations = mutationdata[mutationdata[\"GENE_SYMBOL\"].isin(WNTlist)]\n",
    "WNT_mutations = WNT_mutations[WNT_mutations[\"MUTATION_DESCRIPTION\"] == \"missense_variant\"]"
   ]
  },
  {
   "cell_type": "code",
   "execution_count": 8,
   "id": "cb0d869d-e4be-4c09-914b-13192ff4732d",
   "metadata": {},
   "outputs": [],
   "source": [
    "## Get residues with mutations\n",
    "WNT_mutations = mutationdata[mutationdata[\"GENE_SYMBOL\"].isin(WNTlist)]\n",
    "WNT_mutations = WNT_mutations[WNT_mutations[\"MUTATION_DESCRIPTION\"] == \"missense_variant\"]\n",
    "WNT_mutations[\"MUTATION_RESIDUE\"] = WNT_mutations[\"MUTATION_AA\"].str[3:-1]\n",
    "\n",
    "WNT_mutations[\"MUTATION_RESIDUE\"] = WNT_mutations[\"MUTATION_RESIDUE\"].astype(int)"
   ]
  },
  {
   "cell_type": "markdown",
   "id": "18497347-82b7-4024-83bb-01d84d88426d",
   "metadata": {},
   "source": [
    "## Performing mutation calculation using alignment performed using MUSCLE"
   ]
  },
  {
   "cell_type": "code",
   "execution_count": 9,
   "id": "c763fa9c-65d8-4d9c-8344-aaef62378c98",
   "metadata": {},
   "outputs": [],
   "source": [
    "alignmentfile  = (\"./AllWNTS_muscle.fa\")"
   ]
  },
  {
   "cell_type": "code",
   "execution_count": 10,
   "id": "a6405c63-f4a2-47b8-8838-f2cae587de44",
   "metadata": {},
   "outputs": [],
   "source": [
    "from Bio import AlignIO"
   ]
  },
  {
   "cell_type": "code",
   "execution_count": 11,
   "id": "828a3cc1-9fcd-418c-9056-c2bb00bf23e4",
   "metadata": {},
   "outputs": [],
   "source": [
    "alignment = AlignIO.read(alignmentfile, \"fasta\")"
   ]
  },
  {
   "cell_type": "code",
   "execution_count": 21,
   "id": "7cf0c5ef-332b-4c3c-be8f-1c1ab1df1b41",
   "metadata": {},
   "outputs": [],
   "source": [
    "## Finger domain"
   ]
  },
  {
   "cell_type": "code",
   "execution_count": 13,
   "id": "f1f43f80-f91d-4252-b825-4c9d2220ecf0",
   "metadata": {},
   "outputs": [
    {
     "name": "stdout",
     "output_type": "stream",
     "text": [
      "CKCHGMSGSCTVR\n",
      "CKCHGVSGSCTLR\n",
      "CKCHGVSGSCTLR\n",
      "CKCHGLSGSCEVK\n",
      "CKCHGLSGSCEVK\n",
      "CKCHGVSGSCEVK\n",
      "CKCHGVSGSCSLK\n",
      "CKCHGVSGSCSLK\n",
      "CKCHGLSGSCALR\n",
      "CKCHGVSGSCTTK\n",
      "CKCHGVSGSCTTK\n",
      "CKCHGISGSCSIQ\n",
      "CKCHGVSGSCTTQ\n",
      "CKCHGVSGSCTVR\n",
      "CKCHGVSGSCAVR\n",
      "CKCHGVSGSCSIR\n",
      "CRCHGVSGSCAVK\n"
     ]
    }
   ],
   "source": [
    "## We get the sequences at a particlar location and define where they start in each gene\n",
    "WNTdata = []\n",
    "\n",
    "for wnt in WNTlist:\n",
    "    sequenceid = wnt + \"_HUMAN\"\n",
    "    for sequence in alignment:\n",
    "        alignmentname = (sequence.id.split(\"|\")[2].split(\"/\")[0])\n",
    "        if sequenceid == alignmentname:\n",
    "            #print(sequenceid)\n",
    "            print(sequence.seq[312:325])\n",
    "            sequence_prefinger = sequence.seq[:312]\n",
    "            starting_residue = len(sequence_prefinger.ungap(\"-\"))\n",
    "            WNTdata.append((wnt, starting_residue))\n",
    "        else:\n",
    "            continue"
   ]
  },
  {
   "cell_type": "code",
   "execution_count": 14,
   "id": "d72aee34-b66d-4f9a-9177-e7faabc85f47",
   "metadata": {},
   "outputs": [
    {
     "data": {
      "text/plain": [
       "[('WNT1', 217),\n",
       " ('WNT2', 205),\n",
       " ('WNT2B', 236),\n",
       " ('WNT3', 205),\n",
       " ('WNT3A', 202),\n",
       " ('WNT4', 205),\n",
       " ('WNT5A', 237),\n",
       " ('WNT5B', 216),\n",
       " ('WNT6', 221),\n",
       " ('WNT7A', 199),\n",
       " ('WNT7B', 199),\n",
       " ('WNT8A', 179),\n",
       " ('WNT8B', 179),\n",
       " ('WNT9A', 214),\n",
       " ('WNT9B', 209),\n",
       " ('WNT11', 208),\n",
       " ('WNT16', 220)]"
      ]
     },
     "execution_count": 14,
     "metadata": {},
     "output_type": "execute_result"
    }
   ],
   "source": [
    "WNTdata"
   ]
  },
  {
   "cell_type": "code",
   "execution_count": 16,
   "id": "95ff1bce-87cd-4c4d-b4e2-695a59154b42",
   "metadata": {},
   "outputs": [],
   "source": [
    "## We collect the mutations at each position\n",
    "mutationcounts = []\n",
    "\n",
    "for wnt in WNTdata:\n",
    "    wntname = wnt[0]\n",
    "    wntfingerstart = wnt[1]\n",
    "    mutations = WNT_mutations[WNT_mutations[\"GENE_SYMBOL\"] == wntname]\n",
    "    mutations = mutations[mutations[\"MUTATION_RESIDUE\"].between(wntfingerstart, wntfingerstart + 16)]\n",
    "\n",
    "    mutationlist = mutations[\"MUTATION_RESIDUE\"].tolist()\n",
    "    mutationcounts.append([item - wntfingerstart for item in mutationlist])"
   ]
  },
  {
   "cell_type": "code",
   "execution_count": 19,
   "id": "09864f54-ab69-4d1d-a039-f8fe38c1c5aa",
   "metadata": {},
   "outputs": [],
   "source": [
    "mutationcounts_flat = [item for row in mutationcounts for item in row]"
   ]
  },
  {
   "cell_type": "code",
   "execution_count": 20,
   "id": "d1b66cac-dba4-4cd5-b507-dae064693fa5",
   "metadata": {},
   "outputs": [
    {
     "name": "stderr",
     "output_type": "stream",
     "text": [
      "/var/folders/vv/0521912d5_j4wpw2lwprbrzw0000gn/T/ipykernel_12741/4017575238.py:8: UserWarning: set_ticklabels() should only be used with a fixed number of ticks, i.e. after set_ticks() or using a FixedLocator.\n",
      "  g.set_yticklabels([0,2,4,6,8,10,12], size = 16)\n"
     ]
    },
    {
     "data": {
      "image/png": "[encoded data removed]",
      "text/plain": [
       "<Figure size 600x300 with 1 Axes>"
      ]
     },
     "metadata": {},
     "output_type": "display_data"
    }
   ],
   "source": [
    "## We plot the cumulative frequency\n",
    "fig=plt.figure(figsize=(6,3), dpi= 100, facecolor='w', edgecolor='k')\n",
    "\n",
    "g = sns.histplot(mutationcounts_flat, bins = 14)\n",
    "g.set_xlim(0,17.1)\n",
    "g.set_ylim(0,12)\n",
    "g.set_ylabel(\"Sum of Mutations\\nacross all WNTs\", size = 18)\n",
    "g.set_yticklabels([0,2,4,6,8,10,12], size = 16)\n",
    "g.set_xticks([])\n",
    "sns.despine()\n",
    "\n",
    "g.spines['left'].set_linewidth(2)\n",
    "g.spines['bottom'].set_linewidth(2)\n",
    "\n",
    "plt.savefig(\"Finger_plot_frequency.pdf\", bbox_inches = \"tight\")"
   ]
  },
  {
   "cell_type": "code",
   "execution_count": 22,
   "id": "82bf0edc-8b14-4969-9fda-ebd2f3605edb",
   "metadata": {},
   "outputs": [],
   "source": [
    "## Thumb domain"
   ]
  },
  {
   "cell_type": "code",
   "execution_count": 23,
   "id": "c1ffcac1-2df3-4980-a3ae-7d01c3e3140d",
   "metadata": {},
   "outputs": [
    {
     "name": "stdout",
     "output_type": "stream",
     "text": [
      "ERCNCTFHWCCHVSCRN\n",
      "TKCGCKFHWCCAVRCQD\n",
      "TQCECKFHWCCAVRCKE\n",
      "EKCHCIFHWCCYVSCQE\n",
      "EKCRCVFHWCCYVSCQE\n",
      "ERCSCKFHWCCFVKCRQ\n",
      "ERCHCKFHWCCYVKCKK\n",
      "ERCHCKFHWCCFVRCKK\n",
      "ENCLCRFHWCCVVQCHR\n",
      "WQCNCKFHWCCYVKCNT\n",
      "WQCNCKFHWCCFVKCNT\n",
      "SSCNCKFQWCCTVKCDQ\n",
      "SSCNCKFHWCCAVRCEQ\n",
      "RPCQCQVRWCCYVECRQ\n",
      "FSCHCQVQWCCYVECQQ\n",
      "ERCHCKYHWCCYVTCRR\n",
      "ERCECKFIWCCYVRCRR\n"
     ]
    }
   ],
   "source": [
    "WNTdata = []\n",
    "\n",
    "for wnt in WNTlist:\n",
    "    sequenceid = wnt + \"_HUMAN\"\n",
    "    for sequence in alignment:\n",
    "        alignmentname = (sequence.id.split(\"|\")[2].split(\"/\")[0])\n",
    "        if sequenceid == alignmentname:\n",
    "            #print(sequenceid)\n",
    "            print(sequence.seq[455:472])\n",
    "            sequence_prefinger = sequence.seq[:454]\n",
    "            starting_residue = len(sequence_prefinger.ungap(\"-\"))\n",
    "            WNTdata.append((wnt, starting_residue))\n",
    "        else:\n",
    "            continue"
   ]
  },
  {
   "cell_type": "code",
   "execution_count": 24,
   "id": "ec0d653c-6669-4183-b9ab-b984ebcf99c5",
   "metadata": {},
   "outputs": [],
   "source": [
    "mutationcounts = []\n",
    "\n",
    "for wnt in WNTdata:\n",
    "    wntname = wnt[0]\n",
    "    wntfingerstart = wnt[1]\n",
    "    mutations = WNT_mutations[WNT_mutations[\"GENE_SYMBOL\"] == wntname]\n",
    "    mutations = mutations[mutations[\"MUTATION_RESIDUE\"].between(wntfingerstart +1, wntfingerstart + 17)]\n",
    "\n",
    "    mutationlist = mutations[\"MUTATION_RESIDUE\"].tolist()\n",
    "    mutationcounts.append([item - wntfingerstart for item in mutationlist])"
   ]
  },
  {
   "cell_type": "code",
   "execution_count": 25,
   "id": "2e96f40f-718c-4e61-921a-78115c33abbd",
   "metadata": {},
   "outputs": [],
   "source": [
    "mutationcounts_flat = [item for row in mutationcounts for item in row]"
   ]
  },
  {
   "cell_type": "code",
   "execution_count": 26,
   "id": "f0a31e7a-24d1-4330-86da-7656c726bed5",
   "metadata": {},
   "outputs": [
    {
     "data": {
      "image/png": "[encoded data removed]",
      "text/plain": [
       "<Figure size 680x300 with 1 Axes>"
      ]
     },
     "metadata": {},
     "output_type": "display_data"
    }
   ],
   "source": [
    "fig=plt.figure(figsize=(6.8,3), dpi= 100, facecolor='w', edgecolor='k')\n",
    "\n",
    "g = sns.histplot(mutationcounts_flat, bins = 16)\n",
    "g.set_xlim(0,17.1)\n",
    "g.set_ylabel(\"Sum of Mutations\\nacross all WNTs\", size = 18)\n",
    "g.set_ylim(0,12)\n",
    "g.set_yticks([0,2,4,6,8,10,12])\n",
    "g.set_yticklabels([0,2,4,6,8,10, 12], size = 16)\n",
    "g.set_xticks([])\n",
    "sns.despine()\n",
    "\n",
    "g.spines['left'].set_linewidth(2)\n",
    "g.spines['bottom'].set_linewidth(2)\n",
    "\n",
    "plt.savefig(\"Thumb_plot_frequency.pdf\", bbox_inches = \"tight\")"
   ]
  }
 ],
 "metadata": {
  "kernelspec": {
   "display_name": "Python 3 (ipykernel)",
   "language": "python",
   "name": "python3"
  },
  "language_info": {
   "codemirror_mode": {
    "name": "ipython",
    "version": 3
   },
   "file_extension": ".py",
   "mimetype": "text/x-python",
   "name": "python",
   "nbconvert_exporter": "python",
   "pygments_lexer": "ipython3",
   "version": "3.11.5"
  }
 },
 "nbformat": 4,
 "nbformat_minor": 5
}
