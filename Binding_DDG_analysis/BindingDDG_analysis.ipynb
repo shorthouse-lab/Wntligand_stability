{
 "cells": [
  {
   "cell_type": "code",
   "execution_count": 4,
   "id": "008ec2c7-cb8c-49a8-838e-f40c7a5291eb",
   "metadata": {},
   "outputs": [],
   "source": [
    "import pandas as pd\n",
    "\n",
    "import matplotlib.pyplot as plt\n",
    "import seaborn as sns\n",
    "import matplotlib\n",
    "import numpy as np"
   ]
  },
  {
   "cell_type": "markdown",
   "id": "00ba3b57-891a-4693-9ca0-a6e149612fd3",
   "metadata": {},
   "source": [
    "## Load and manipulate data"
   ]
  },
  {
   "cell_type": "code",
   "execution_count": 10,
   "id": "6eb90200-2f2f-4917-bbb4-f7d10b8b785b",
   "metadata": {},
   "outputs": [],
   "source": [
    "## We do some preprocessing as the MLY data was calculated seperately\n",
    "dataset_noMLY = pd.read_csv(\"./Binding_DDG_summary.csv\")\n",
    "dataset_MLY = pd.read_csv(\"./Binding_DDG_summary_MLY.csv\")"
   ]
  },
  {
   "cell_type": "code",
   "execution_count": 11,
   "id": "2c87faa0-705c-4d59-8c45-610197e0c54a",
   "metadata": {},
   "outputs": [],
   "source": [
    "dataset_MLY[\"AA\"] = dataset_MLY[\"Mutation\"].astype(str).str[2:-1].astype(int)\n",
    "dataset_MLY[\"From\"] = dataset_MLY[\"Mutation\"].astype(str).str[:1]\n",
    "dataset_MLY[\"To\"] = dataset_MLY[\"Mutation\"].astype(str).str[-1:]"
   ]
  },
  {
   "cell_type": "code",
   "execution_count": 12,
   "id": "ae7f5e2a-a9fe-47aa-9b14-741277168ff1",
   "metadata": {},
   "outputs": [
    {
     "data": {
      "text/html": [
       "<div>\n",
       "<style scoped>\n",
       "    .dataframe tbody tr th:only-of-type {\n",
       "        vertical-align: middle;\n",
       "    }\n",
       "\n",
       "    .dataframe tbody tr th {\n",
       "        vertical-align: top;\n",
       "    }\n",
       "\n",
       "    .dataframe thead th {\n",
       "        text-align: right;\n",
       "    }\n",
       "</style>\n",
       "<table border=\"1\" class=\"dataframe\">\n",
       "  <thead>\n",
       "    <tr style=\"text-align: right;\">\n",
       "      <th></th>\n",
       "      <th>Mutation</th>\n",
       "      <th>WT_energy</th>\n",
       "      <th>MUT_energy</th>\n",
       "      <th>DDG</th>\n",
       "      <th>AA</th>\n",
       "      <th>From</th>\n",
       "      <th>To</th>\n",
       "    </tr>\n",
       "  </thead>\n",
       "  <tbody>\n",
       "    <tr>\n",
       "      <th>0</th>\n",
       "      <td>mB207A</td>\n",
       "      <td>-10.8857</td>\n",
       "      <td>-10.5385</td>\n",
       "      <td>0.3472</td>\n",
       "      <td>207</td>\n",
       "      <td>m</td>\n",
       "      <td>A</td>\n",
       "    </tr>\n",
       "    <tr>\n",
       "      <th>1</th>\n",
       "      <td>mB207C</td>\n",
       "      <td>-10.8857</td>\n",
       "      <td>-10.5426</td>\n",
       "      <td>0.3431</td>\n",
       "      <td>207</td>\n",
       "      <td>m</td>\n",
       "      <td>C</td>\n",
       "    </tr>\n",
       "    <tr>\n",
       "      <th>2</th>\n",
       "      <td>mB207D</td>\n",
       "      <td>-10.8857</td>\n",
       "      <td>-10.0572</td>\n",
       "      <td>0.8285</td>\n",
       "      <td>207</td>\n",
       "      <td>m</td>\n",
       "      <td>D</td>\n",
       "    </tr>\n",
       "    <tr>\n",
       "      <th>3</th>\n",
       "      <td>mB207E</td>\n",
       "      <td>-10.8857</td>\n",
       "      <td>-10.2886</td>\n",
       "      <td>0.5971</td>\n",
       "      <td>207</td>\n",
       "      <td>m</td>\n",
       "      <td>E</td>\n",
       "    </tr>\n",
       "    <tr>\n",
       "      <th>4</th>\n",
       "      <td>mB207F</td>\n",
       "      <td>-10.8857</td>\n",
       "      <td>-10.7830</td>\n",
       "      <td>0.1027</td>\n",
       "      <td>207</td>\n",
       "      <td>m</td>\n",
       "      <td>F</td>\n",
       "    </tr>\n",
       "  </tbody>\n",
       "</table>\n",
       "</div>"
      ],
      "text/plain": [
       "  Mutation  WT_energy  MUT_energy     DDG   AA From To\n",
       "0   mB207A   -10.8857    -10.5385  0.3472  207    m  A\n",
       "1   mB207C   -10.8857    -10.5426  0.3431  207    m  C\n",
       "2   mB207D   -10.8857    -10.0572  0.8285  207    m  D\n",
       "3   mB207E   -10.8857    -10.2886  0.5971  207    m  E\n",
       "4   mB207F   -10.8857    -10.7830  0.1027  207    m  F"
      ]
     },
     "execution_count": 12,
     "metadata": {},
     "output_type": "execute_result"
    }
   ],
   "source": [
    "dataset_MLY.head()"
   ]
  },
  {
   "cell_type": "code",
   "execution_count": 13,
   "id": "e8f03e29-411b-4672-9a30-fb889453661d",
   "metadata": {},
   "outputs": [
    {
     "name": "stderr",
     "output_type": "stream",
     "text": [
      "/var/folders/vv/0521912d5_j4wpw2lwprbrzw0000gn/T/ipykernel_12773/1026764866.py:5: SettingWithCopyWarning: \n",
      "A value is trying to be set on a copy of a slice from a DataFrame.\n",
      "Try using .loc[row_indexer,col_indexer] = value instead\n",
      "\n",
      "See the caveats in the documentation: https://pandas.pydata.org/pandas-docs/stable/user_guide/indexing.html#returning-a-view-versus-a-copy\n",
      "  dataset_MLY_K[\"DDG\"] = 0\n"
     ]
    }
   ],
   "source": [
    "dataset_MLY[\"From\"] = \"K\"\n",
    "dataset_MLY_no_K = dataset_MLY[dataset_MLY[\"To\"] != \"K\"]\n",
    "dataset_MLY_K = dataset_MLY[dataset_MLY[\"To\"] == \"K\"]\n",
    "\n",
    "dataset_MLY_K[\"DDG\"] = 0\n",
    "\n",
    "dataset_MLY_mod = pd.concat([dataset_MLY_K, dataset_MLY_no_K])"
   ]
  },
  {
   "cell_type": "code",
   "execution_count": 14,
   "id": "f0cebf2a-5c96-4f52-aabc-8b17014743c0",
   "metadata": {},
   "outputs": [
    {
     "data": {
      "text/html": [
       "<div>\n",
       "<style scoped>\n",
       "    .dataframe tbody tr th:only-of-type {\n",
       "        vertical-align: middle;\n",
       "    }\n",
       "\n",
       "    .dataframe tbody tr th {\n",
       "        vertical-align: top;\n",
       "    }\n",
       "\n",
       "    .dataframe thead th {\n",
       "        text-align: right;\n",
       "    }\n",
       "</style>\n",
       "<table border=\"1\" class=\"dataframe\">\n",
       "  <thead>\n",
       "    <tr style=\"text-align: right;\">\n",
       "      <th></th>\n",
       "      <th>Mutation</th>\n",
       "      <th>WT_energy</th>\n",
       "      <th>MUT_energy</th>\n",
       "      <th>DDG</th>\n",
       "      <th>AA</th>\n",
       "      <th>From</th>\n",
       "      <th>To</th>\n",
       "    </tr>\n",
       "  </thead>\n",
       "  <tbody>\n",
       "    <tr>\n",
       "      <th>8</th>\n",
       "      <td>mB207K</td>\n",
       "      <td>-10.8857</td>\n",
       "      <td>-11.0102</td>\n",
       "      <td>0.0000</td>\n",
       "      <td>207</td>\n",
       "      <td>K</td>\n",
       "      <td>K</td>\n",
       "    </tr>\n",
       "    <tr>\n",
       "      <th>28</th>\n",
       "      <td>mB218K</td>\n",
       "      <td>-10.8857</td>\n",
       "      <td>-10.8910</td>\n",
       "      <td>0.0000</td>\n",
       "      <td>218</td>\n",
       "      <td>K</td>\n",
       "      <td>K</td>\n",
       "    </tr>\n",
       "    <tr>\n",
       "      <th>48</th>\n",
       "      <td>mB329K</td>\n",
       "      <td>-10.8857</td>\n",
       "      <td>-10.9675</td>\n",
       "      <td>0.0000</td>\n",
       "      <td>329</td>\n",
       "      <td>K</td>\n",
       "      <td>K</td>\n",
       "    </tr>\n",
       "    <tr>\n",
       "      <th>0</th>\n",
       "      <td>mB207A</td>\n",
       "      <td>-10.8857</td>\n",
       "      <td>-10.5385</td>\n",
       "      <td>0.3472</td>\n",
       "      <td>207</td>\n",
       "      <td>K</td>\n",
       "      <td>A</td>\n",
       "    </tr>\n",
       "    <tr>\n",
       "      <th>1</th>\n",
       "      <td>mB207C</td>\n",
       "      <td>-10.8857</td>\n",
       "      <td>-10.5426</td>\n",
       "      <td>0.3431</td>\n",
       "      <td>207</td>\n",
       "      <td>K</td>\n",
       "      <td>C</td>\n",
       "    </tr>\n",
       "  </tbody>\n",
       "</table>\n",
       "</div>"
      ],
      "text/plain": [
       "   Mutation  WT_energy  MUT_energy     DDG   AA From To\n",
       "8    mB207K   -10.8857    -11.0102  0.0000  207    K  K\n",
       "28   mB218K   -10.8857    -10.8910  0.0000  218    K  K\n",
       "48   mB329K   -10.8857    -10.9675  0.0000  329    K  K\n",
       "0    mB207A   -10.8857    -10.5385  0.3472  207    K  A\n",
       "1    mB207C   -10.8857    -10.5426  0.3431  207    K  C"
      ]
     },
     "execution_count": 14,
     "metadata": {},
     "output_type": "execute_result"
    }
   ],
   "source": [
    "dataset_MLY_mod.head()"
   ]
  },
  {
   "cell_type": "code",
   "execution_count": 16,
   "id": "0d60234f-f12d-4755-b727-42d871a55eab",
   "metadata": {},
   "outputs": [],
   "source": [
    "dataset_noMLY[\"AA\"] = dataset_noMLY[\"Mutation\"].astype(str).str[2:-1].astype(int)\n",
    "dataset_noMLY[\"From\"] = dataset_noMLY[\"Mutation\"].astype(str).str[:1]\n",
    "dataset_noMLY[\"To\"] = dataset_noMLY[\"Mutation\"].astype(str).str[-1:]"
   ]
  },
  {
   "cell_type": "code",
   "execution_count": 18,
   "id": "1d9bed43-ed4e-44d2-8b4b-554f9ba6dcab",
   "metadata": {},
   "outputs": [],
   "source": [
    "dataset = pd.concat([dataset_noMLY, dataset_MLY_mod])"
   ]
  },
  {
   "cell_type": "code",
   "execution_count": 19,
   "id": "34d84660-517d-4a51-ae43-a1c0a2788396",
   "metadata": {},
   "outputs": [],
   "source": [
    "pivot_table = dataset[[\"DDG\", \"AA\", \"To\"]].pivot(columns= \"AA\", index = \"To\")\n",
    "pivot_table = pivot_table.fillna(0)"
   ]
  },
  {
   "cell_type": "markdown",
   "id": "4fb78a05-522e-4f34-ab83-7324e33be65f",
   "metadata": {},
   "source": [
    "## Subset to residues near finger and thumb and plot heatmap"
   ]
  },
  {
   "cell_type": "code",
   "execution_count": 20,
   "id": "d5ce5271-1d4e-4d53-b0af-7d8eeff9ac6c",
   "metadata": {},
   "outputs": [],
   "source": [
    "thumbdomain = dataset[dataset[\"AA\"] >= 205]\n",
    "thumbdomain = thumbdomain[thumbdomain[\"AA\"] <= 220]\n",
    "\n",
    "thumbdomain = thumbdomain.sort_values(by = \"AA\")\n",
    "\n",
    "pivot_table = thumbdomain[[\"DDG\", \"AA\", \"To\"]].pivot(columns= \"AA\", index = \"To\")\n",
    "pivot_table = pivot_table.fillna(0)\n",
    "\n",
    "residuelist = pivot_table.columns.get_level_values('AA').tolist()\n",
    "\n",
    "labels = thumbdomain[thumbdomain[\"AA\"].isin(residuelist)].drop_duplicates(subset = \"AA\")[[\"AA\",\"From\"]]\n",
    "\n",
    "labels_AA = labels[\"AA\"]\n",
    "labels_AA = [str(x) for x in labels_AA]\n",
    "labels_from = labels[\"From\"]\n",
    "\n",
    "labels = (labels_from + labels_AA).tolist()"
   ]
  },
  {
   "cell_type": "code",
   "execution_count": 21,
   "id": "4a23a149-9050-4db1-a66e-d7d94effe748",
   "metadata": {},
   "outputs": [
    {
     "data": {
      "image/png": "[encoded data removed]",
      "text/plain": [
       "<Figure size 640x480 with 2 Axes>"
      ]
     },
     "metadata": {},
     "output_type": "display_data"
    }
   ],
   "source": [
    "mask = np.zeros((pivot_table.shape))\n",
    "mask[:,6] = True\n",
    "\n",
    "cmap = matplotlib.colormaps.get_cmap('viridis')\n",
    "cmap.set_bad(\"lightgrey\")\n",
    "\n",
    "g = sns.heatmap(pivot_table, vmin = -2, vmax = 3, square=True, cmap = cmap, linewidths=0.5, mask = mask)\n",
    "\n",
    "g.set_xlabel(\"\")\n",
    "g.set_ylabel(\"Amino acid change\", size = 14)\n",
    "g.set_xticklabels(labels, rotation = 45, ha = \"right\", size = 10, rotation_mode = \"anchor\")\n",
    "g.set_yticklabels(g.get_yticklabels(), rotation = 0, size = 12)\n",
    "\n",
    "g.axhline(y=0, color='k',linewidth=3)\n",
    "g.axhline(y=pivot_table.shape[0], color='k',linewidth=3)\n",
    "g.axvline(x=0, color='k',linewidth=3)\n",
    "g.axvline(x=pivot_table.shape[1], color='k',linewidth=3)\n",
    "\n",
    "plt.savefig(\"Thumb_heatmap.pdf\")"
   ]
  },
  {
   "cell_type": "code",
   "execution_count": 22,
   "id": "9e8a72c4-86bf-4e3c-a742-077aa63d5f73",
   "metadata": {},
   "outputs": [],
   "source": [
    "fingerdomain = dataset[dataset[\"AA\"] >= 327]\n",
    "fingerdomain = fingerdomain[fingerdomain[\"AA\"] <= 344]\n",
    "fingerdomain = fingerdomain.sort_values(by = \"AA\")"
   ]
  },
  {
   "cell_type": "code",
   "execution_count": 23,
   "id": "b170f769-30be-41c2-b5af-b6f1230bff90",
   "metadata": {},
   "outputs": [],
   "source": [
    "fingerdomain[\"Label\"] = fingerdomain[\"From\"] + fingerdomain[\"AA\"].astype(str)"
   ]
  },
  {
   "cell_type": "code",
   "execution_count": 24,
   "id": "43a843ea-063d-4bc5-8fac-63ecfd095b4e",
   "metadata": {},
   "outputs": [
    {
     "name": "stderr",
     "output_type": "stream",
     "text": [
      "/var/folders/vv/0521912d5_j4wpw2lwprbrzw0000gn/T/ipykernel_12773/4004324217.py:29: UserWarning: set_ticklabels() should only be used with a fixed number of ticks, i.e. after set_ticks() or using a FixedLocator.\n",
      "  c_bar.set_ticklabels([\"< -2\", -1, 0, 1, 2, \"> 3\"])\n"
     ]
    },
    {
     "data": {
      "image/png": "[encoded data removed]",
      "text/plain": [
       "<Figure size 640x480 with 2 Axes>"
      ]
     },
     "metadata": {},
     "output_type": "display_data"
    }
   ],
   "source": [
    "finger_pivot_table = fingerdomain[[\"DDG\", \"AA\", \"To\"]].pivot(columns= \"AA\", index = \"To\")\n",
    "finger_pivot_table = finger_pivot_table.fillna(0)\n",
    "\n",
    "residuelist = finger_pivot_table.columns.get_level_values('AA').tolist()\n",
    "\n",
    "labels = fingerdomain[fingerdomain[\"AA\"].isin(residuelist)].drop_duplicates(subset = \"AA\")[[\"AA\",\"From\"]]\n",
    "labels_AA = labels[\"AA\"]\n",
    "labels_AA = [str(x) for x in labels_AA]\n",
    "labels_from = labels[\"From\"]\n",
    "\n",
    "labels = (labels_from + labels_AA).tolist()\n",
    "\n",
    "\n",
    "g = sns.heatmap(finger_pivot_table, vmin = -2, vmax = 3, square=True, cmap=\"viridis\", linewidth = 0.5\n",
    "               ,cbar_kws={'label': r'$\\Delta\\Delta$G of Binding (kcal/mol)'})\n",
    "\n",
    "\n",
    "g.set_xlabel(\"\")\n",
    "g.set_ylabel(\"Amino acid change\", size = 14)\n",
    "g.set_xticklabels(labels, rotation = 45, ha = \"right\", size = 10, rotation_mode = \"anchor\")\n",
    "g.set_yticklabels(g.get_yticklabels(), rotation = 0, size = 12)\n",
    "\n",
    "g.axhline(y=0, color='k',linewidth=3)\n",
    "g.axhline(y=finger_pivot_table.shape[0], color='k',linewidth=3)\n",
    "g.axvline(x=0, color='k',linewidth=3)\n",
    "g.axvline(x=finger_pivot_table.shape[1], color='k',linewidth=3)\n",
    "\n",
    "c_bar = g.collections[0].colorbar\n",
    "c_bar.set_ticklabels([\"< -2\", -1, 0, 1, 2, \"> 3\"])\n",
    "\n",
    "plt.savefig(\"Finger_heatmap.pdf\")"
   ]
  }
 ],
 "metadata": {
  "kernelspec": {
   "display_name": "Python 3 (ipykernel)",
   "language": "python",
   "name": "python3"
  },
  "language_info": {
   "codemirror_mode": {
    "name": "ipython",
    "version": 3
   },
   "file_extension": ".py",
   "mimetype": "text/x-python",
   "name": "python",
   "nbconvert_exporter": "python",
   "pygments_lexer": "ipython3",
   "version": "3.11.5"
  }
 },
 "nbformat": 4,
 "nbformat_minor": 5
}
